{
  "nbformat": 4,
  "nbformat_minor": 0,
  "metadata": {
    "colab": {
      "name": "3. Listas Doblemente enlazadas.ipynb",
      "provenance": [],
      "collapsed_sections": [],
      "authorship_tag": "ABX9TyNJ40FfOve072rkQsxVT4Lv",
      "include_colab_link": true
    },
    "kernelspec": {
      "name": "python3",
      "display_name": "Python 3"
    },
    "language_info": {
      "name": "python"
    }
  },
  "cells": [
    {
      "cell_type": "markdown",
      "metadata": {
        "id": "view-in-github",
        "colab_type": "text"
      },
      "source": [
        "<a href=\"https://colab.research.google.com/github/Jayro12/Tareas-IPC2/blob/main/Tarea-3.ipynb\" target=\"_parent\"><img src=\"https://colab.research.google.com/assets/colab-badge.svg\" alt=\"Open In Colab\"/></a>"
      ]
    },
    {
      "cell_type": "markdown",
      "metadata": {
        "id": "Zpmh3Xvgv0Cy"
      },
      "source": [
        "**Definición de la clase estudiante**"
      ]
    },
    {
      "cell_type": "code",
      "metadata": {
        "id": "reH1rB0gvLto"
      },
      "source": [
        "class estudiante:\n",
        "  def __init__(self, carne, nombre, edad, direccion, telefono, email, carrera, puesto):\n",
        "    self.carne = carne\n",
        "    self.nombre = nombre\n",
        "    self.edad = edad\n",
        "    self.direccion= direccion\n",
        "    self.telefono = telefono\n",
        "    self.email= email\n",
        "    self.carrera = carrera\n",
        "    self.puesto= puesto"
      ],
      "execution_count": 9,
      "outputs": []
    },
    {
      "cell_type": "markdown",
      "metadata": {
        "id": "rO5SM9x5ztP4"
      },
      "source": [
        "**Definicion clase nodo**"
      ]
    },
    {
      "cell_type": "code",
      "metadata": {
        "id": "04ChkI_ZzwP2"
      },
      "source": [
        "class nodo:\n",
        "  def __init__(self, estudiante=None, siguiente=None, anterior=None):\n",
        "    self.estudiante = estudiante\n",
        "    self.siguiente = siguiente\n",
        "    self.anterior = anterior\n"
      ],
      "execution_count": 10,
      "outputs": []
    },
    {
      "cell_type": "markdown",
      "metadata": {
        "id": "5PvFY8A80QU2"
      },
      "source": [
        "**Definicion de la clase doblemente enlazada**"
      ]
    },
    {
      "cell_type": "code",
      "metadata": {
        "id": "M2IDpLU60V-v"
      },
      "source": [
        "class lista_doble:\n",
        "  def __init__(self):\n",
        "    self.primero = None\n",
        "\n",
        "  def insertar(self, estudiante):\n",
        "    if self.primero is None:\n",
        "      self.primero = nodo(estudiante=estudiante)\n",
        "    else:\n",
        "      actual = nodo(estudiante=estudiante, siguiente=self.primero)\n",
        "      self.primero.anterior = actual\n",
        "      self.primero = actual\n",
        "  \n",
        "  def recorrer(self):\n",
        "    if self.primero is None:\n",
        "      return\n",
        "    actual = self.primero\n",
        "    print(\"carne:\", actual.estudiante.carne, \"nombre:\", actual.estudiante.nombre, \"email:\", actual.estudiante.email, \"->\")\n",
        "    while actual.siguiente:\n",
        "      actual = actual.siguiente\n",
        "      print(\"carne:\", actual.estudiante.carne, \"nombre:\", actual.estudiante.nombre, \"email:\", actual.estudiante.email, \"->\")\n",
        "  \n",
        "  def eliminar(self, carne):\n",
        "    actual = self.primero\n",
        "    while actual:\n",
        "      if actual.estudiante.carne == carne:\n",
        "        if actual.anterior:\n",
        "          if actual.siguiente:\n",
        "            actual.anterior.siguiente = actual.siguiente\n",
        "            actual.siguiente.anterior = actual.anterior\n",
        "          else:\n",
        "            actual.anterior.siguiente = None\n",
        "            actual.anterior = None\n",
        "        else:\n",
        "          if actual.siguiente:\n",
        "            self.primero = actual.siguiente\n",
        "            actual.siguiente.anterior = None\n",
        "          else:\n",
        "            self.primero = None\n",
        "        return True\n",
        "      else:\n",
        "        actual = actual.siguiente\n",
        "    return False\n",
        "  \n",
        "  def buscar(self, carne):\n",
        "    actual = self.primero\n",
        "\n",
        "    while actual and actual.estudiante.carne != carne:\n",
        "      actual = actual.siguiente\n",
        "    \n",
        "    if actual is None:\n",
        "      print('El nodo no existe en la lista')\n",
        "    elif actual:\n",
        "      print(\"carne:\", actual.estudiante.carne, \"nombre:\", actual.estudiante.nombre, \"email:\", actual.estudiante.email)"
      ],
      "execution_count": 11,
      "outputs": []
    },
    {
      "cell_type": "markdown",
      "metadata": {
        "id": "LtVx1oSS2Oqx"
      },
      "source": [
        "**Creacion del objeto estudiante**"
      ]
    },
    {
      "cell_type": "code",
      "metadata": {
        "id": "BH44a1pt2Rs-"
      },
      "source": [
        "e1=estudiante(20105050, \"Gerson Ortiz\", 20, \"0 calle 10-02 zona 1\", 12345678, \"gerson.ortiz@gmail.com\", \"Ingenieria en sistemas\", \"programador jr\")\n",
        "e2=estudiante(20195050, \"Karen Herrarte\", 21, \"7 calle 10-02 zona 1\", 12345679, \"karen.herrarte@gmail.com\", \"Ingenieria en sistemas\", \"programador jr\")\n",
        "e3=estudiante(20185050, \"Luis Mendez\", 22, \"8 calle 10-02 zona 1\", 12345670, \"luis.mendez@gmail.com\", \"Ingenieria en sistemas\", \"programador jr\")"
      ],
      "execution_count": 12,
      "outputs": []
    },
    {
      "cell_type": "markdown",
      "metadata": {
        "id": "tU0oE9a62c9J"
      },
      "source": [
        "**Insersion**"
      ]
    },
    {
      "cell_type": "code",
      "metadata": {
        "id": "XA5voJKx2epV"
      },
      "source": [
        "lista_e = lista_doble()\n",
        "lista_e.insertar(e1)\n",
        "lista_e.insertar(e2)\n",
        "lista_e.insertar(e3)"
      ],
      "execution_count": 28,
      "outputs": []
    },
    {
      "cell_type": "markdown",
      "metadata": {
        "id": "vHzL6sBiNbDc"
      },
      "source": [
        "**Recorrer Lista**"
      ]
    },
    {
      "cell_type": "code",
      "metadata": {
        "colab": {
          "base_uri": "https://localhost:8080/"
        },
        "id": "4-kfAJEmNrOU",
        "outputId": "4bba9968-c676-4c3b-dd05-9641ab66c5e0"
      },
      "source": [
        "lista_e.recorrer()"
      ],
      "execution_count": 29,
      "outputs": [
        {
          "output_type": "stream",
          "text": [
            "carne: 20185050 nombre: Luis Mendez email: luis.mendez@gmail.com ->\n",
            "carne: 20195050 nombre: Karen Herrarte email: karen.herrarte@gmail.com ->\n",
            "carne: 20105050 nombre: Gerson Ortiz email: gerson.ortiz@gmail.com ->\n"
          ],
          "name": "stdout"
        }
      ]
    },
    {
      "cell_type": "markdown",
      "metadata": {
        "id": "M0-3uQsJOeQK"
      },
      "source": [
        "**Eliminar el nodo del medio de la lista**"
      ]
    },
    {
      "cell_type": "code",
      "metadata": {
        "colab": {
          "base_uri": "https://localhost:8080/"
        },
        "id": "mbRGVtN1Ojj5",
        "outputId": "18fbbb3b-c742-4cc8-e499-5cfcdcc8b249"
      },
      "source": [
        "lista_e.eliminar(20185050)\n",
        "lista_e.recorrer()"
      ],
      "execution_count": 18,
      "outputs": [
        {
          "output_type": "stream",
          "text": [
            "carne: 20195050 nombre: Karen Herrarte email: karen.herrarte@gmail.com ->\n",
            "carne: 20105050 nombre: Gerson Ortiz email: gerson.ortiz@gmail.com ->\n"
          ],
          "name": "stdout"
        }
      ]
    },
    {
      "cell_type": "markdown",
      "metadata": {
        "id": "piEqgx9gPp_m"
      },
      "source": [
        "**Eliminar el nodo primero de la lista**"
      ]
    },
    {
      "cell_type": "code",
      "metadata": {
        "colab": {
          "base_uri": "https://localhost:8080/"
        },
        "id": "QdqlReMJPsUH",
        "outputId": "7cb35f34-b7f0-4a43-cbb4-f18cf6b441ad"
      },
      "source": [
        "lista_e.eliminar(20195050)\n",
        "lista_e.recorrer()"
      ],
      "execution_count": 19,
      "outputs": [
        {
          "output_type": "stream",
          "text": [
            "carne: 20105050 nombre: Gerson Ortiz email: gerson.ortiz@gmail.com ->\n"
          ],
          "name": "stdout"
        }
      ]
    },
    {
      "cell_type": "markdown",
      "metadata": {
        "id": "MIEuDKJoQGgz"
      },
      "source": [
        "**Eliminar el último nodo de la lista**"
      ]
    },
    {
      "cell_type": "code",
      "metadata": {
        "id": "VX7I1NELQLck"
      },
      "source": [
        "lista_e.eliminar(20105050)\n",
        "lista_e.recorrer()"
      ],
      "execution_count": 20,
      "outputs": []
    },
    {
      "cell_type": "markdown",
      "metadata": {
        "id": "76eB3SAzRVTb"
      },
      "source": [
        "**Eliminar nodo a nodo de la lista**"
      ]
    },
    {
      "cell_type": "code",
      "metadata": {
        "id": "vbPBbqu_RXDr"
      },
      "source": [
        "lista_e.eliminar(20185050)\n",
        "lista_e.recorrer()\n",
        "lista_e.eliminar(20195050)\n",
        "lista_e.recorrer()\n",
        "lista_e.eliminar(20105050)\n",
        "lista_e.recorrer()"
      ],
      "execution_count": 21,
      "outputs": []
    },
    {
      "cell_type": "markdown",
      "metadata": {
        "id": "nPLAUUx3Rq7r"
      },
      "source": [
        "**Buscar**"
      ]
    },
    {
      "cell_type": "code",
      "metadata": {
        "colab": {
          "base_uri": "https://localhost:8080/"
        },
        "id": "suNklkmFRtIY",
        "outputId": "09e5879e-3751-487a-81a2-2a0568f1059d"
      },
      "source": [
        "lista_e.buscar(20195050)\n",
        "lista_e.buscar(5623452)"
      ],
      "execution_count": 30,
      "outputs": [
        {
          "output_type": "stream",
          "text": [
            "carne: 20195050 nombre: Karen Herrarte email: karen.herrarte@gmail.com\n",
            "El nodo no existe en la lista\n"
          ],
          "name": "stdout"
        }
      ]
    }
  ]
}