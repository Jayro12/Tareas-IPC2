{
  "nbformat": 4,
  "nbformat_minor": 0,
  "metadata": {
    "colab": {
      "name": "2. Listas Cirulares.ipynb",
      "provenance": [],
      "collapsed_sections": [],
      "authorship_tag": "ABX9TyO/gSZ1MU/0uXLyBHEA/e5h",
      "include_colab_link": true
    },
    "kernelspec": {
      "name": "python3",
      "display_name": "Python 3"
    },
    "language_info": {
      "name": "python"
    }
  },
  "cells": [
    {
      "cell_type": "markdown",
      "metadata": {
        "id": "view-in-github",
        "colab_type": "text"
      },
      "source": [
        "<a href=\"https://colab.research.google.com/github/Jayro12/Tareas-IPC2/blob/main/Tarea-2.ipynb\" target=\"_parent\"><img src=\"https://colab.research.google.com/assets/colab-badge.svg\" alt=\"Open In Colab\"/></a>"
      ]
    },
    {
      "cell_type": "markdown",
      "metadata": {
        "id": "ml20NLwXzoRW"
      },
      "source": [
        "**Definicion de la clase estudiante**"
      ]
    },
    {
      "cell_type": "code",
      "metadata": {
        "id": "JUXVeT6CzMjm"
      },
      "source": [
        "class estudiante:\n",
        "  def __init__(self, carne, nombre, edad, direccion, telefono, email, carrera, puesto):\n",
        "    self.carne = carne\n",
        "    self.nombre = nombre\n",
        "    self.edad = edad\n",
        "    self.direccion= direccion\n",
        "    self.telefono = telefono\n",
        "    self.email= email\n",
        "    self.carrera = carrera\n",
        "    self.puesto= puesto"
      ],
      "execution_count": 1,
      "outputs": []
    },
    {
      "cell_type": "markdown",
      "metadata": {
        "id": "oYN031tgz5yT"
      },
      "source": [
        "**Definicion de la clase nodo**"
      ]
    },
    {
      "cell_type": "code",
      "metadata": {
        "id": "e-BXo4A3z95V"
      },
      "source": [
        "class nodo:\n",
        "  def __init__(self, estudiante=None, siguiente=None):\n",
        "    self.estudiante = estudiante\n",
        "    self.siguiente = siguiente"
      ],
      "execution_count": 2,
      "outputs": []
    },
    {
      "cell_type": "markdown",
      "metadata": {
        "id": "0uN1j3n30T4D"
      },
      "source": [
        "**Definicion de la clase Lista Circular**"
      ]
    },
    {
      "cell_type": "code",
      "metadata": {
        "id": "FNYasY6N0ZlF"
      },
      "source": [
        "class lista_circular:\n",
        "  def __init__(self):\n",
        "    self.primero = None\n",
        "  \n",
        "  def insertar(self, estudiante):\n",
        "    if self.primero is None:\n",
        "      self.primero = nodo(estudiante=estudiante)\n",
        "      self.primero.siguiente = self.primero\n",
        "    else:\n",
        "      actual = nodo(estudiante=estudiante, siguiente=self.primero.siguiente)\n",
        "      self.primero.siguiente = actual\n",
        "    \n",
        "  def recorrer(self):\n",
        "    if self.primero is None:\n",
        "      return\n",
        "    actual = self.primero\n",
        "    print(\"carne:\", actual.estudiante.carne, \"nombre:\", actual.estudiante.nombre, \"email:\", actual.estudiante.email, \"->\")\n",
        "    while actual.siguiente != self.primero:\n",
        "      actual = actual.siguiente\n",
        "      print(\"carne:\", actual.estudiante.carne, \"nombre:\", actual.estudiante.nombre, \"email:\", actual.estudiante.email, \"->\")\n",
        "  \n",
        "  def eliminar(self, carne):\n",
        "    actual = self.primero\n",
        "    anterior = None\n",
        "    no_encontrado = False\n",
        "\n",
        "    while actual and actual.estudiante.carne != carne:\n",
        "      anterior = actual\n",
        "      actual = actual.siguiente\n",
        "      if actual == self.primero:\n",
        "        no_encontrado = True\n",
        "        break\n",
        "      \n",
        "    if not no_encontrado:\n",
        "      if anterior is not None:\n",
        "        anterior.siguiente = actual.siguiente\n",
        "      else:\n",
        "        while actual.siguiente != self.primero:\n",
        "          actual = actual.siguiente\n",
        "        actual.siguiente = self.primero.siguiente\n",
        "        self.primero = self.primer.siguiente\n",
        "  \n",
        "  def buscar(self, carne):\n",
        "    actual = self.primero\n",
        "    anterior = None\n",
        "    no_encontrado = False\n",
        "\n",
        "    while actual and actual.estudiante.carne != carne:\n",
        "      anterior = actual\n",
        "      actual = actual.siguiente\n",
        "      if actual == self.primero:\n",
        "        no_encontrado = True\n",
        "        print('El nodo no existe en la lista')\n",
        "        break\n",
        "      \n",
        "    if not no_encontrado:\n",
        "        print(\"carne:\", actual.estudiante.carne, \"nombre:\", actual.estudiante.nombre, \"email:\", actual.estudiante.email)"
      ],
      "execution_count": 3,
      "outputs": []
    },
    {
      "cell_type": "markdown",
      "metadata": {
        "id": "_FGnG_W-nFRW"
      },
      "source": [
        "**Creacion objeto estudiante**"
      ]
    },
    {
      "cell_type": "code",
      "metadata": {
        "id": "LmM4BP4ro4g9"
      },
      "source": [
        "e1=estudiante(20105050, \"Gerson Ortiz\", 20, \"0 calle 10-02 zona 1\", 12345678, \"gerson.ortiz@gmail.com\", \"Ingenieria en sistemas\", \"programador jr\")\n",
        "e2=estudiante(20195050, \"Karen Herrarte\", 21, \"7 calle 10-02 zona 1\", 12345679, \"karen.herrarte@gmail.com\", \"Ingenieria en sistemas\", \"programador jr\")\n",
        "e3=estudiante(20185050, \"Luis Mendez\", 22, \"8 calle 10-02 zona 1\", 12345670, \"luis.mendez@gmail.com\", \"Ingenieria en sistemas\", \"programador jr\")"
      ],
      "execution_count": 4,
      "outputs": []
    },
    {
      "cell_type": "markdown",
      "metadata": {
        "id": "X7MqScAdpBIE"
      },
      "source": [
        "**Insersion**"
      ]
    },
    {
      "cell_type": "code",
      "metadata": {
        "id": "q3ppBLclpD1l"
      },
      "source": [
        "lista_c = lista_circular()\n",
        "lista_c.insertar(e1)\n",
        "lista_c.insertar(e2)\n",
        "lista_c.insertar(e3)"
      ],
      "execution_count": 6,
      "outputs": []
    },
    {
      "cell_type": "markdown",
      "metadata": {
        "id": "QeYaqjhisLRE"
      },
      "source": [
        "**Recorrer la lista**"
      ]
    },
    {
      "cell_type": "code",
      "metadata": {
        "id": "BuAOKAGLsQJr",
        "colab": {
          "base_uri": "https://localhost:8080/"
        },
        "outputId": "bb689fdb-ddd3-42b4-8d10-ba5da0d59560"
      },
      "source": [
        "lista_c.recorrer()"
      ],
      "execution_count": 7,
      "outputs": [
        {
          "output_type": "stream",
          "text": [
            "carne: 20105050 nombre: Gerson Ortiz email: gerson.ortiz@gmail.com ->\n",
            "carne: 20185050 nombre: Luis Mendez email: luis.mendez@gmail.com ->\n",
            "carne: 20195050 nombre: Karen Herrarte email: karen.herrarte@gmail.com ->\n"
          ],
          "name": "stdout"
        }
      ]
    },
    {
      "cell_type": "markdown",
      "metadata": {
        "id": "K5KzmcYVY8FF"
      },
      "source": [
        "**Eliminar un nodo de la lista**"
      ]
    },
    {
      "cell_type": "code",
      "metadata": {
        "colab": {
          "base_uri": "https://localhost:8080/"
        },
        "id": "ilCRdCR1Y_tG",
        "outputId": "d1c2aa1f-419b-49a7-c964-f7008f94c555"
      },
      "source": [
        "lista_c.eliminar(20185050)\n",
        "lista_c.recorrer()"
      ],
      "execution_count": 9,
      "outputs": [
        {
          "output_type": "stream",
          "text": [
            "carne: 20105050 nombre: Gerson Ortiz email: gerson.ortiz@gmail.com ->\n",
            "carne: 20195050 nombre: Karen Herrarte email: karen.herrarte@gmail.com ->\n"
          ],
          "name": "stdout"
        }
      ]
    },
    {
      "cell_type": "markdown",
      "metadata": {
        "id": "mS0OtGIAZQxO"
      },
      "source": [
        "**Buscar**"
      ]
    },
    {
      "cell_type": "code",
      "metadata": {
        "colab": {
          "base_uri": "https://localhost:8080/"
        },
        "id": "9Q-JSVNqZeR8",
        "outputId": "74354b30-e998-4603-9ff1-2d42c4770d04"
      },
      "source": [
        "lista_c.buscar(20105050)\n",
        "lista_c.buscar(1234567)"
      ],
      "execution_count": 11,
      "outputs": [
        {
          "output_type": "stream",
          "text": [
            "carne: 20105050 nombre: Gerson Ortiz email: gerson.ortiz@gmail.com\n",
            "El nodo no existe en la lista\n"
          ],
          "name": "stdout"
        }
      ]
    }
  ]
}