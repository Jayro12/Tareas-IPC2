{
  "nbformat": 4,
  "nbformat_minor": 0,
  "metadata": {
    "colab": {
      "name": "1. listas enlazadas.ipynb",
      "provenance": [],
      "collapsed_sections": [],
      "authorship_tag": "ABX9TyP0ADeJq5/PvBZsibRzFGZN",
      "include_colab_link": true
    },
    "kernelspec": {
      "name": "python3",
      "display_name": "Python 3"
    },
    "language_info": {
      "name": "python"
    }
  },
  "cells": [
    {
      "cell_type": "markdown",
      "metadata": {
        "id": "view-in-github",
        "colab_type": "text"
      },
      "source": [
        "<a href=\"https://colab.research.google.com/github/Jayro12/Tareas-IPC2/blob/main/Tarea-1.ipynb\" target=\"_parent\"><img src=\"https://colab.research.google.com/assets/colab-badge.svg\" alt=\"Open In Colab\"/></a>"
      ]
    },
    {
      "cell_type": "markdown",
      "metadata": {
        "id": "vJG4Lu-5tp4C"
      },
      "source": [
        "##**Listas enlazadas**\n",
        "**Definicion de la clase Estudiante**"
      ]
    },
    {
      "cell_type": "code",
      "metadata": {
        "id": "3pdXxYUAt3yT"
      },
      "source": [
        "class estudiante:\n",
        "  def __init__(self, carne, nombre, edad, direccion, telefono, email, carrera, puesto):\n",
        "    self.carne = carne\n",
        "    self.nombre = nombre\n",
        "    self.edad = edad\n",
        "    self.direccion= direccion\n",
        "    self.telefono = telefono\n",
        "    self.email= email\n",
        "    self.carrera = carrera\n",
        "    self.puesto= puesto\n"
      ],
      "execution_count": 15,
      "outputs": []
    },
    {
      "cell_type": "markdown",
      "metadata": {
        "id": "fOxQxlYhzVT1"
      },
      "source": [
        "**Definicion de la clase Nodo**"
      ]
    },
    {
      "cell_type": "code",
      "metadata": {
        "id": "P5GmTagRzfIr"
      },
      "source": [
        "class nodo:\n",
        "  def __init__(self,estudiante=None,siguiente=None):\n",
        "    self.estudiante = estudiante\n",
        "    self.siguiente = siguiente\n"
      ],
      "execution_count": 2,
      "outputs": []
    },
    {
      "cell_type": "markdown",
      "metadata": {
        "id": "QLOdZV_8229s"
      },
      "source": [
        "**Definicion de la clase Lista enlazada**"
      ]
    },
    {
      "cell_type": "code",
      "metadata": {
        "id": "OjtqM63G21VX"
      },
      "source": [
        "class lista_enlazada:\n",
        "   def __init__(self):\n",
        "    self.primero = None\n",
        "\n",
        "   def insertar(self, estudiante):\n",
        "    if self.primero is None:\n",
        "      self.primero = nodo(estudiante=estudiante)\n",
        "      return\n",
        "    actual = self.primero\n",
        "    while actual.siguiente:\n",
        "      actual = actual.siguiente\n",
        "    actual.siguiente = nodo(estudiante=estudiante)\n",
        "\n",
        "   def recorrer(self):\n",
        "    actual = self.primero\n",
        "    while actual !=None:\n",
        "      print(\"Carne: \", actual.estudiante.carne, \"Nombre: \", actual.estudiante.nombre, \"Email: \", actual.estudiante.email, \"->\")\n",
        "      actual = actual.siguiente\n",
        "\n",
        "   def eliminar(self, carne):\n",
        "    actual = self.primero\n",
        "    anterior = None\n",
        "\n",
        "    while actual and actual.estudiante.carne != carne:\n",
        "      anterior = actual\n",
        "      actual = actual.siguiente\n",
        "    \n",
        "    if anterior is None:\n",
        "      self.primero = actual.siguiente\n",
        "      actual.siguiente = None\n",
        "    elif actual:\n",
        "      anterior.siguiente = actual.siguiente\n",
        "      actual.siguiente = None\n",
        "    \n",
        "    def buscar(self,carne):\n",
        "    actual = self.siguiente\n",
        "    self.siguiente = None\n",
        "    while actual != None and not self.siguiente:\n",
        "        if actual.estudiante.carne() == carne:\n",
        "            carne = True\n",
        "        else:\n",
        "            actual = actual.estudiante.carne()\n",
        "\n",
        "    return actual"
      ],
      "execution_count": 16,
      "outputs": []
    },
    {
      "cell_type": "markdown",
      "metadata": {
        "id": "Gd8go_sqsixF"
      },
      "source": [
        "**Creación de objetos Estudiante** "
      ]
    },
    {
      "cell_type": "code",
      "metadata": {
        "id": "olpGPY4qsto1"
      },
      "source": [
        "e1=estudiante(20105050, \"Gerson Ortiz\", 20, \"0 calle 10-02 zona 1\", 12345678, \"gerson.ortiz@gmail.com\", \"Ingenieria en sistemas\", \"programador jr\")\n",
        "e2=estudiante(20195050, \"Karen Herrarte\", 21, \"7 calle 10-02 zona 1\", 12345679, \"karen.herrarte@gmail.com\", \"Ingenieria en sistemas\", \"programador jr\")\n",
        "e3=estudiante(20185050, \"Luis Mendez\", 22, \"8 calle 10-02 zona 1\", 12345670, \"luis.mendez@gmail.com\", \"Ingenieria en sistemas\", \"programador jr\")"
      ],
      "execution_count": 17,
      "outputs": []
    },
    {
      "cell_type": "markdown",
      "metadata": {
        "id": "rCyrNkUntoKe"
      },
      "source": [
        "**Insersion** "
      ]
    },
    {
      "cell_type": "code",
      "metadata": {
        "id": "1SHv8kkWtyEc"
      },
      "source": [
        "lista_e = lista_enlazada()\n",
        "lista_e.insertar(e1)\n",
        "lista_e.insertar(e2)\n",
        "lista_e.insertar(e3)\n"
      ],
      "execution_count": 18,
      "outputs": []
    },
    {
      "cell_type": "markdown",
      "metadata": {
        "id": "89iEdyj0uENc"
      },
      "source": [
        "**Recorrer la lista**"
      ]
    },
    {
      "cell_type": "code",
      "metadata": {
        "colab": {
          "base_uri": "https://localhost:8080/"
        },
        "id": "MaqSPqeeuHNN",
        "outputId": "103b3770-1897-4283-91bb-9884d050e833"
      },
      "source": [
        "lista_e.recorrer()\n"
      ],
      "execution_count": 19,
      "outputs": [
        {
          "output_type": "stream",
          "text": [
            "Carne:  20105050 Nombre:  Gerson Ortiz Email:  gerson.ortiz@gmail.com ->\n",
            "Carne:  20195050 Nombre:  Karen Herrarte Email:  karen.herrarte@gmail.com ->\n",
            "Carne:  20185050 Nombre:  Luis Mendez Email:  luis.mendez@gmail.com ->\n"
          ],
          "name": "stdout"
        }
      ]
    },
    {
      "cell_type": "markdown",
      "metadata": {
        "id": "dGjtZKsBwhsi"
      },
      "source": [
        "**Eliminar un nodo de la lista**"
      ]
    },
    {
      "cell_type": "code",
      "metadata": {
        "colab": {
          "base_uri": "https://localhost:8080/"
        },
        "id": "lhfRwGiowgtE",
        "outputId": "2665f7c5-c24a-4f40-de2d-871bb14bf6a2"
      },
      "source": [
        "lista_e.eliminar(20195050)\n",
        "lista_e.recorrer()"
      ],
      "execution_count": 20,
      "outputs": [
        {
          "output_type": "stream",
          "text": [
            "Carne:  20105050 Nombre:  Gerson Ortiz Email:  gerson.ortiz@gmail.com ->\n",
            "Carne:  20185050 Nombre:  Luis Mendez Email:  luis.mendez@gmail.com ->\n"
          ],
          "name": "stdout"
        }
      ]
    },
    {
      "cell_type": "markdown",
      "metadata": {
        "id": "hX_cCmVnMLtj"
      },
      "source": [
        "**Eliminar un nodo de la lista**"
      ]
    },
    {
      "cell_type": "code",
      "metadata": {
        "id": "ULmTq94xMD2W"
      },
      "source": [
        "lista_e.buscar(20195050)\n",
        "lista_e.recorrer()"
      ],
      "execution_count": null,
      "outputs": []
    }
  ]
}